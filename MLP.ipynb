{
 "cells": [
  {
   "cell_type": "markdown",
   "metadata": {
    "colab_type": "text",
    "id": "1wg29h7niYjy"
   },
   "source": [
    "---\n",
    "---\n",
    ">># **Machine Learning Homework 2**\n",
    "\n",
    ">>### MultiLayer Perceptron algorithm implementation\n",
    "\n",
    ">>Course: Machine Learning\n",
    "\n",
    ">>Professor: Pasquale Caianiello\n",
    "\n",
    ">>Student: Dagmawi Abraham Seifu, **Matricola: 261414**\n",
    "\n",
    ">>Email: dagiabrham44@gmail.com\n",
    "---\n",
    "---\n"
   ]
  },
  {
   "cell_type": "markdown",
   "metadata": {
    "colab_type": "text",
    "id": "trPT6JbUoknA"
   },
   "source": [
    "#**Brief**\n",
    "We implement Multilayer perceptron architecture for classification problem. We apply the algorithm on three datasets from UCI repository: breast cancer dataset, letter recognition and wine dataset.\n",
    "\n",
    "\n"
   ]
  },
  {
   "cell_type": "markdown",
   "metadata": {
    "colab_type": "text",
    "id": "zNv18J_lotfA"
   },
   "source": [
    "Import all modules from python library that we are going to use to implement MLP architecture"
   ]
  },
  {
   "cell_type": "code",
   "execution_count": 0,
   "metadata": {
    "colab": {},
    "colab_type": "code",
    "id": "97ViyBcf5Gh-"
   },
   "outputs": [],
   "source": [
    "import pandas as pd\n",
    "import numpy as np\n",
    "import matplotlib.pyplot as plt\n",
    "from sklearn.preprocessing import StandardScaler\n",
    "from sklearn.model_selection import train_test_split\n",
    "from sklearn.metrics import classification_report\n",
    "from sklearn.neural_network import MLPClassifier\n",
    "from sklearn.metrics import confusion_matrix\n",
    "from sklearn.decomposition import PCA\n",
    "%matplotlib inline\n",
    "\n",
    "scaler = StandardScaler()"
   ]
  },
  {
   "cell_type": "markdown",
   "metadata": {
    "colab_type": "text",
    "id": "tu5-ME1VppkL"
   },
   "source": [
    "Links to the datasets and Train/test ratio"
   ]
  },
  {
   "cell_type": "code",
   "execution_count": 0,
   "metadata": {
    "colab": {},
    "colab_type": "code",
    "id": "Bd4kmgjc59G0"
   },
   "outputs": [],
   "source": [
    "ltr ='Data/Letter recognition/letter-recognition.data'\n",
    "bcw ='Data/Breast cancer/breast-cancer-wisconsin.data'\n",
    "wine = 'Data/wine/wine.data'\n",
    "\n",
    "train_ratio, test_ratio = 0.8, 0.2\n"
   ]
  },
  {
   "cell_type": "markdown",
   "metadata": {
    "colab_type": "text",
    "id": "3R1G4775gka1"
   },
   "source": [
    "# **Dataset 1: Breast Cancer Wisconsin**\n",
    "Breast cancer database obtained from the University of Wisconsin Hospitals. Some information about the dataset\n",
    "\n",
    "\n",
    "*   Multivariate Data set\n",
    "*   Number of rows(instances) - 699 and Number of columns(attributes/features) - 10\n",
    "*   Class label - 2 for benign, 4 for malignant\n",
    "*   Source: https://archive.ics.uci.edu/ml/datasets/breast+cancer+wisconsin+(original)\n",
    "\n"
   ]
  },
  {
   "cell_type": "markdown",
   "metadata": {
    "colab_type": "text",
    "id": "k-J4HwIXpUCs"
   },
   "source": [
    "We first import the breast cancer dataset and replace the missing values with the average."
   ]
  },
  {
   "cell_type": "code",
   "execution_count": 115,
   "metadata": {
    "colab": {
     "base_uri": "https://localhost:8080/",
     "height": 197
    },
    "colab_type": "code",
    "id": "uYzakxsrpHN9",
    "outputId": "a74cc603-4740-4caa-a33c-2711ec4308c5"
   },
   "outputs": [
    {
     "data": {
      "text/html": [
       "<div>\n",
       "<style scoped>\n",
       "    .dataframe tbody tr th:only-of-type {\n",
       "        vertical-align: middle;\n",
       "    }\n",
       "\n",
       "    .dataframe tbody tr th {\n",
       "        vertical-align: top;\n",
       "    }\n",
       "\n",
       "    .dataframe thead th {\n",
       "        text-align: right;\n",
       "    }\n",
       "</style>\n",
       "<table border=\"1\" class=\"dataframe\">\n",
       "  <thead>\n",
       "    <tr style=\"text-align: right;\">\n",
       "      <th></th>\n",
       "      <th>Clump_Thickness</th>\n",
       "      <th>U_Cellsize</th>\n",
       "      <th>U_CellShape</th>\n",
       "      <th>Marginal_adhesion</th>\n",
       "      <th>Single_ECSS</th>\n",
       "      <th>Bare_nuclei</th>\n",
       "      <th>Blend_chromatin</th>\n",
       "      <th>Normal_chromatin</th>\n",
       "      <th>Mitoses</th>\n",
       "      <th>Class</th>\n",
       "    </tr>\n",
       "  </thead>\n",
       "  <tbody>\n",
       "    <tr>\n",
       "      <th>1000025</th>\n",
       "      <td>5</td>\n",
       "      <td>1</td>\n",
       "      <td>1</td>\n",
       "      <td>1</td>\n",
       "      <td>2</td>\n",
       "      <td>1</td>\n",
       "      <td>3</td>\n",
       "      <td>1</td>\n",
       "      <td>1</td>\n",
       "      <td>2</td>\n",
       "    </tr>\n",
       "    <tr>\n",
       "      <th>1002945</th>\n",
       "      <td>5</td>\n",
       "      <td>4</td>\n",
       "      <td>4</td>\n",
       "      <td>5</td>\n",
       "      <td>7</td>\n",
       "      <td>10</td>\n",
       "      <td>3</td>\n",
       "      <td>2</td>\n",
       "      <td>1</td>\n",
       "      <td>2</td>\n",
       "    </tr>\n",
       "    <tr>\n",
       "      <th>1015425</th>\n",
       "      <td>3</td>\n",
       "      <td>1</td>\n",
       "      <td>1</td>\n",
       "      <td>1</td>\n",
       "      <td>2</td>\n",
       "      <td>2</td>\n",
       "      <td>3</td>\n",
       "      <td>1</td>\n",
       "      <td>1</td>\n",
       "      <td>2</td>\n",
       "    </tr>\n",
       "    <tr>\n",
       "      <th>1016277</th>\n",
       "      <td>6</td>\n",
       "      <td>8</td>\n",
       "      <td>8</td>\n",
       "      <td>1</td>\n",
       "      <td>3</td>\n",
       "      <td>4</td>\n",
       "      <td>3</td>\n",
       "      <td>7</td>\n",
       "      <td>1</td>\n",
       "      <td>2</td>\n",
       "    </tr>\n",
       "    <tr>\n",
       "      <th>1017023</th>\n",
       "      <td>4</td>\n",
       "      <td>1</td>\n",
       "      <td>1</td>\n",
       "      <td>3</td>\n",
       "      <td>2</td>\n",
       "      <td>1</td>\n",
       "      <td>3</td>\n",
       "      <td>1</td>\n",
       "      <td>1</td>\n",
       "      <td>2</td>\n",
       "    </tr>\n",
       "  </tbody>\n",
       "</table>\n",
       "</div>"
      ],
      "text/plain": [
       "         Clump_Thickness  U_Cellsize  ...  Mitoses  Class\n",
       "1000025                5           1  ...        1      2\n",
       "1002945                5           4  ...        1      2\n",
       "1015425                3           1  ...        1      2\n",
       "1016277                6           8  ...        1      2\n",
       "1017023                4           1  ...        1      2\n",
       "\n",
       "[5 rows x 10 columns]"
      ]
     },
     "execution_count": 115,
     "metadata": {
      "tags": []
     },
     "output_type": "execute_result"
    }
   ],
   "source": [
    "names=[\"Clump_Thickness\",\"U_Cellsize\",\"U_CellShape\",\"Marginal_adhesion\",\"Single_ECSS\",\"Bare_nuclei\",\"Blend_chromatin\",\"Normal_chromatin\",\"Mitoses\", \"Class\"]\n",
    "breast_cancer = pd.read_csv(bcw, names = names)\n",
    "breast_cancer = breast_cancer.replace('?',4)\n",
    "for name in names:\n",
    "  breast_cancer[name] = pd.to_numeric(breast_cancer[name])\n",
    "\n",
    "breast_cancer.dropna(axis=0, how='any', thresh=None, subset=None, inplace=False)\n",
    "breast_cancer.head()"
   ]
  },
  {
   "cell_type": "markdown",
   "metadata": {
    "colab_type": "text",
    "id": "dtR3vc1XiljQ"
   },
   "source": [
    "Split the data into training set and test set"
   ]
  },
  {
   "cell_type": "code",
   "execution_count": 0,
   "metadata": {
    "colab": {},
    "colab_type": "code",
    "id": "B_uHAJKv9Lxr"
   },
   "outputs": [],
   "source": [
    "\n",
    "X = breast_cancer.drop(\"Class\", axis = 1)\n",
    "y = breast_cancer['Class']\n",
    "\n",
    "X_train, X_test, Y_train, Y_test = train_test_split(X, y, train_size = train_ratio, test_size = test_ratio, shuffle = True)\n"
   ]
  },
  {
   "cell_type": "markdown",
   "metadata": {
    "colab_type": "text",
    "id": "nufXdIeKiuXy"
   },
   "source": [
    "Preprocess the data by normalizing it using StandardScaler module so that the MLP algorithm converges in the specified iteration."
   ]
  },
  {
   "cell_type": "code",
   "execution_count": 0,
   "metadata": {
    "colab": {},
    "colab_type": "code",
    "id": "ZKT1fIdS7zBX"
   },
   "outputs": [],
   "source": [
    "scaler.fit(X_train)\n",
    "X_train_scale = scaler.transform(X_train)\n",
    "X_test_scale = scaler.transform(X_test)"
   ]
  },
  {
   "cell_type": "markdown",
   "metadata": {
    "colab_type": "text",
    "id": "GtncSNPPXBWk"
   },
   "source": [
    "Let us first visualize the dataset by extracting main features using Principal Component Analysis in 2-D. Get the principal components first."
   ]
  },
  {
   "cell_type": "code",
   "execution_count": 118,
   "metadata": {
    "colab": {
     "base_uri": "https://localhost:8080/",
     "height": 197
    },
    "colab_type": "code",
    "id": "8ARisyngK_vX",
    "outputId": "cb8abdc1-90ad-483d-9fdc-c85d6514df10"
   },
   "outputs": [
    {
     "data": {
      "text/html": [
       "<div>\n",
       "<style scoped>\n",
       "    .dataframe tbody tr th:only-of-type {\n",
       "        vertical-align: middle;\n",
       "    }\n",
       "\n",
       "    .dataframe tbody tr th {\n",
       "        vertical-align: top;\n",
       "    }\n",
       "\n",
       "    .dataframe thead th {\n",
       "        text-align: right;\n",
       "    }\n",
       "</style>\n",
       "<table border=\"1\" class=\"dataframe\">\n",
       "  <thead>\n",
       "    <tr style=\"text-align: right;\">\n",
       "      <th></th>\n",
       "      <th>principal component 1</th>\n",
       "      <th>principal component 2</th>\n",
       "      <th>index</th>\n",
       "      <th>Class</th>\n",
       "    </tr>\n",
       "  </thead>\n",
       "  <tbody>\n",
       "    <tr>\n",
       "      <th>0</th>\n",
       "      <td>-1.463822</td>\n",
       "      <td>-0.100464</td>\n",
       "      <td>1000025</td>\n",
       "      <td>2</td>\n",
       "    </tr>\n",
       "    <tr>\n",
       "      <th>1</th>\n",
       "      <td>1.462238</td>\n",
       "      <td>-0.551414</td>\n",
       "      <td>1002945</td>\n",
       "      <td>2</td>\n",
       "    </tr>\n",
       "    <tr>\n",
       "      <th>2</th>\n",
       "      <td>-1.586435</td>\n",
       "      <td>-0.070942</td>\n",
       "      <td>1015425</td>\n",
       "      <td>2</td>\n",
       "    </tr>\n",
       "    <tr>\n",
       "      <th>3</th>\n",
       "      <td>1.499996</td>\n",
       "      <td>-0.549743</td>\n",
       "      <td>1016277</td>\n",
       "      <td>2</td>\n",
       "    </tr>\n",
       "    <tr>\n",
       "      <th>4</th>\n",
       "      <td>-1.338155</td>\n",
       "      <td>-0.080756</td>\n",
       "      <td>1017023</td>\n",
       "      <td>2</td>\n",
       "    </tr>\n",
       "  </tbody>\n",
       "</table>\n",
       "</div>"
      ],
      "text/plain": [
       "   principal component 1  principal component 2    index  Class\n",
       "0              -1.463822              -0.100464  1000025      2\n",
       "1               1.462238              -0.551414  1002945      2\n",
       "2              -1.586435              -0.070942  1015425      2\n",
       "3               1.499996              -0.549743  1016277      2\n",
       "4              -1.338155              -0.080756  1017023      2"
      ]
     },
     "execution_count": 118,
     "metadata": {
      "tags": []
     },
     "output_type": "execute_result"
    }
   ],
   "source": [
    "xx = StandardScaler().fit_transform(X.values)\n",
    "y = breast_cancer[['Class']].reset_index()\n",
    "pca = PCA(n_components = 2)\n",
    "principalComponents = pca.fit_transform(xx)\n",
    "principalDf = pd.DataFrame(data = principalComponents, columns = ['principal component 1', 'principal component 2'])\n",
    "finalDf = pd.concat([principalDf,y], axis = 1)\n",
    "finalDf.head()\n"
   ]
  },
  {
   "cell_type": "markdown",
   "metadata": {
    "colab_type": "text",
    "id": "iLqktj5XYtmp"
   },
   "source": [
    "Now visualize the dataset"
   ]
  },
  {
   "cell_type": "code",
   "execution_count": 119,
   "metadata": {
    "colab": {
     "base_uri": "https://localhost:8080/",
     "height": 523
    },
    "colab_type": "code",
    "id": "n230XU5VLwom",
    "outputId": "f8030385-1477-4edc-a9dd-459ed4f77c9e"
   },
   "outputs": [
    {
     "data": {
      "image/png": "[encoded data removed]",
      "text/plain": [
       "<Figure size 576x576 with 1 Axes>"
      ]
     },
     "metadata": {
      "tags": []
     },
     "output_type": "display_data"
    }
   ],
   "source": [
    "fig = plt.figure(figsize = (8,8))\n",
    "ax = fig.add_subplot(1,1,1) \n",
    "ax.set_xlabel('Principal Component 1', fontsize = 15)\n",
    "ax.set_ylabel('Principal Component 2', fontsize = 15)\n",
    "ax.set_title('2 Component PCA', fontsize = 20)\n",
    "\n",
    "\n",
    "labels = [2, 4]\n",
    "colors = ['r', 'b']\n",
    "for label, color in zip(labels,colors):\n",
    "    indicesToKeep = finalDf['Class'] == label\n",
    "    ax.scatter(finalDf.loc[indicesToKeep, 'principal component 1']\n",
    "               , finalDf.loc[indicesToKeep, 'principal component 2']\n",
    "               , c = color\n",
    "               , s = 50)\n",
    "ax.legend(labels)\n",
    "ax.grid()"
   ]
  },
  {
   "cell_type": "markdown",
   "metadata": {
    "colab_type": "text",
    "id": "qHBy297AjIUq"
   },
   "source": [
    "Now let us build our MLP modelFirst set the number of iterations, the number of hidden layers and the number of neurons(perceptrons) in each hidden layer. Then use MLPClassifier to predict the outputs. Use the default activation function 'relu' which gives best result than sigmoid(logistic)"
   ]
  },
  {
   "cell_type": "code",
   "execution_count": 0,
   "metadata": {
    "colab": {},
    "colab_type": "code",
    "id": "7mHOdD2E-jbl"
   },
   "outputs": [],
   "source": [
    "iterations = 1000\n",
    "hidden_layers = [10,10,10] \n",
    "mlp = MLPClassifier(hidden_layer_sizes=(hidden_layers), max_iter=iterations)\n",
    "mlp.fit(X_train_scale, Y_train)\n",
    "predicted = mlp.predict(X_test_scale)"
   ]
  },
  {
   "cell_type": "code",
   "execution_count": 121,
   "metadata": {
    "colab": {
     "base_uri": "https://localhost:8080/",
     "height": 52
    },
    "colab_type": "code",
    "id": "CLb4GG7uADi-",
    "outputId": "08d5f89a-544e-44bb-b571-9d3e0be2f552"
   },
   "outputs": [
    {
     "name": "stdout",
     "output_type": "stream",
     "text": [
      "[[86  5]\n",
      " [ 1 48]]\n"
     ]
    }
   ],
   "source": [
    "print(confusion_matrix(Y_test, predicted))"
   ]
  },
  {
   "cell_type": "code",
   "execution_count": 122,
   "metadata": {
    "colab": {
     "base_uri": "https://localhost:8080/",
     "height": 176
    },
    "colab_type": "code",
    "id": "nVAKqCD-AQku",
    "outputId": "ae466322-1ce4-46e1-cba6-24f6de9da16a"
   },
   "outputs": [
    {
     "name": "stdout",
     "output_type": "stream",
     "text": [
      "              precision    recall  f1-score   support\n",
      "\n",
      "           2       0.99      0.95      0.97        91\n",
      "           4       0.91      0.98      0.94        49\n",
      "\n",
      "    accuracy                           0.96       140\n",
      "   macro avg       0.95      0.96      0.95       140\n",
      "weighted avg       0.96      0.96      0.96       140\n",
      "\n"
     ]
    }
   ],
   "source": [
    "print(classification_report(Y_test, predicted))"
   ]
  },
  {
   "cell_type": "markdown",
   "metadata": {
    "colab_type": "text",
    "id": "aJpqPmTlcfYC"
   },
   "source": [
    "We can extract the learning rate (Synaptic plasticity)"
   ]
  },
  {
   "cell_type": "code",
   "execution_count": 123,
   "metadata": {
    "colab": {
     "base_uri": "https://localhost:8080/",
     "height": 34
    },
    "colab_type": "code",
    "id": "6-h3leVScY6N",
    "outputId": "8e57b3b2-c70b-4170-91db-6ddcf835ba19"
   },
   "outputs": [
    {
     "data": {
      "text/plain": [
       "0.0001"
      ]
     },
     "execution_count": 123,
     "metadata": {
      "tags": []
     },
     "output_type": "execute_result"
    }
   ],
   "source": [
    "mlp.alpha"
   ]
  },
  {
   "cell_type": "markdown",
   "metadata": {
    "colab_type": "text",
    "id": "8Mnrn0x1jMy6"
   },
   "source": [
    "# **Dataset 2: Letter recognition**\n",
    "A set of character images with different pixel attributes that depict the English alphabet in capital. Some information about the dataset\n",
    "\n",
    "\n",
    "*   Multivariate Data set\n",
    "*   Number of rows(instances) - 20000 and Number of columns(attributes/features) - 16\n",
    "*   Source: https://archive.ics.uci.edu/ml/datasets/Letter+Recognition\n"
   ]
  },
  {
   "cell_type": "markdown",
   "metadata": {
    "colab_type": "text",
    "id": "YCWy-rXikfWu"
   },
   "source": [
    "Split the dataset into Training set and test set"
   ]
  },
  {
   "cell_type": "code",
   "execution_count": 0,
   "metadata": {
    "colab": {},
    "colab_type": "code",
    "id": "1vGqz8hDjh5v"
   },
   "outputs": [],
   "source": [
    "letter = pd.read_csv(ltr)\n",
    "X = letter.iloc[:,1:17].values\n",
    "y = letter.iloc[:,0].values\n",
    "\n",
    "X_train, X_test, Y_train, Y_test = train_test_split(X, y, train_size = train_ratio, test_size = test_ratio, shuffle = True)"
   ]
  },
  {
   "cell_type": "code",
   "execution_count": 0,
   "metadata": {
    "colab": {},
    "colab_type": "code",
    "id": "SOrM9uGij0vO"
   },
   "outputs": [],
   "source": [
    "scaler.fit(X_train)\n",
    "X_train_scale = scaler.transform(X_train)\n",
    "X_test_scale = scaler.transform(X_test)"
   ]
  },
  {
   "cell_type": "markdown",
   "metadata": {
    "colab_type": "text",
    "id": "KOEwsdrRkrJw"
   },
   "source": [
    "Specify the epochs(iterations), play around with the activation functions: logistic, tanh, relu"
   ]
  },
  {
   "cell_type": "code",
   "execution_count": 0,
   "metadata": {
    "colab": {},
    "colab_type": "code",
    "id": "35T2s4a7j5F0"
   },
   "outputs": [],
   "source": [
    "iterations = 1000\n",
    "hidden_layers = [10,10,10]\n",
    "mlp = MLPClassifier(hidden_layer_sizes=(hidden_layers), max_iter=iterations, activation = 'tanh')\n",
    "mlp.fit(X_train_scale, Y_train)\n",
    "predicted = mlp.predict(X_test_scale)"
   ]
  },
  {
   "cell_type": "code",
   "execution_count": 127,
   "metadata": {
    "colab": {
     "base_uri": "https://localhost:8080/",
     "height": 603
    },
    "colab_type": "code",
    "id": "Kw-f47w0kC8e",
    "outputId": "43aba9fa-d2b8-4494-df8f-fb14bd29df4b"
   },
   "outputs": [
    {
     "name": "stdout",
     "output_type": "stream",
     "text": [
      "              precision    recall  f1-score   support\n",
      "\n",
      "           A       0.92      0.94      0.93       156\n",
      "           B       0.78      0.79      0.78       160\n",
      "           C       0.85      0.87      0.86       148\n",
      "           D       0.85      0.84      0.84       147\n",
      "           E       0.85      0.84      0.84       154\n",
      "           F       0.81      0.78      0.79       141\n",
      "           G       0.69      0.81      0.74       150\n",
      "           H       0.72      0.66      0.69       149\n",
      "           I       0.92      0.86      0.89       167\n",
      "           J       0.90      0.87      0.89       133\n",
      "           K       0.79      0.83      0.81       163\n",
      "           L       0.91      0.90      0.91       141\n",
      "           M       0.81      0.90      0.85       146\n",
      "           N       0.89      0.82      0.86       163\n",
      "           O       0.79      0.78      0.79       141\n",
      "           P       0.86      0.79      0.82       170\n",
      "           Q       0.88      0.80      0.84       152\n",
      "           R       0.68      0.78      0.73       164\n",
      "           S       0.69      0.76      0.72       138\n",
      "           T       0.86      0.89      0.88       176\n",
      "           U       0.93      0.83      0.88       171\n",
      "           V       0.93      0.84      0.88       154\n",
      "           W       0.80      0.88      0.84       141\n",
      "           X       0.84      0.86      0.85       152\n",
      "           Y       0.87      0.84      0.86       173\n",
      "           Z       0.88      0.85      0.86       150\n",
      "\n",
      "    accuracy                           0.83      4000\n",
      "   macro avg       0.83      0.83      0.83      4000\n",
      "weighted avg       0.84      0.83      0.83      4000\n",
      "\n"
     ]
    }
   ],
   "source": [
    "print(classification_report(Y_test, predicted))"
   ]
  },
  {
   "cell_type": "markdown",
   "metadata": {
    "colab_type": "text",
    "id": "xVKareqPkQLO"
   },
   "source": [
    "# **Dataset 3: Wine Dataset**\n",
    "A dataset containing results of a chemical analysis of wines. Some info about the dataset\n",
    "\n",
    "\n",
    "*   Multivariate Data set\n",
    "*   Number of rows(instances) - 178 and Number of columns(attributes/features) - 13\n",
    "*   Class label - 1,2,3\n",
    "*   Attributes are continuous\n",
    "*   Source: https://archive.ics.uci.edu/ml/datasets/Letter+Recognition"
   ]
  },
  {
   "cell_type": "code",
   "execution_count": 0,
   "metadata": {
    "colab": {},
    "colab_type": "code",
    "id": "J7AK2OPb8Bkm"
   },
   "outputs": [],
   "source": [
    "names = [\"class\", \"Alcohol\", \"Malic_Acid\", \"Ash\", \"Alcalinity_of_Ash\", \"Magnesium\", \"Total_phenols\", \"Falvanoids\", \"Nonflavanoid_phenols\", \"Proanthocyanins\", \"Color_intensity\", \"Hue\", \"OD280\", \"Proline\"]\n",
    "wine = pd.read_csv(wine, names = names)\n",
    "\n",
    "X = wine.drop(\"class\", axis = 1)\n",
    "y = wine['class']\n",
    "X_train, X_test, y_train, y_test = train_test_split(X, y, test_size = test_ratio)\n"
   ]
  },
  {
   "cell_type": "code",
   "execution_count": 0,
   "metadata": {
    "colab": {},
    "colab_type": "code",
    "id": "9ux0Cvi29vby"
   },
   "outputs": [],
   "source": [
    "scaler.fit(X_train)\n",
    "X_train = scaler.transform(X_train)\n",
    "X_test = scaler.transform(X_test)\n"
   ]
  },
  {
   "cell_type": "markdown",
   "metadata": {
    "colab_type": "text",
    "id": "1-A1kwiglLD0"
   },
   "source": [
    "Get the principal components in 2-D projection"
   ]
  },
  {
   "cell_type": "code",
   "execution_count": 130,
   "metadata": {
    "colab": {
     "base_uri": "https://localhost:8080/",
     "height": 197
    },
    "colab_type": "code",
    "id": "U-QF3KypZ4CB",
    "outputId": "54f65b46-ccc3-45b5-954b-c9c810e3c5a0"
   },
   "outputs": [
    {
     "data": {
      "text/html": [
       "<div>\n",
       "<style scoped>\n",
       "    .dataframe tbody tr th:only-of-type {\n",
       "        vertical-align: middle;\n",
       "    }\n",
       "\n",
       "    .dataframe tbody tr th {\n",
       "        vertical-align: top;\n",
       "    }\n",
       "\n",
       "    .dataframe thead th {\n",
       "        text-align: right;\n",
       "    }\n",
       "</style>\n",
       "<table border=\"1\" class=\"dataframe\">\n",
       "  <thead>\n",
       "    <tr style=\"text-align: right;\">\n",
       "      <th></th>\n",
       "      <th>principal component 1</th>\n",
       "      <th>principal component 2</th>\n",
       "      <th>class</th>\n",
       "    </tr>\n",
       "  </thead>\n",
       "  <tbody>\n",
       "    <tr>\n",
       "      <th>0</th>\n",
       "      <td>3.316751</td>\n",
       "      <td>-1.443463</td>\n",
       "      <td>1</td>\n",
       "    </tr>\n",
       "    <tr>\n",
       "      <th>1</th>\n",
       "      <td>2.209465</td>\n",
       "      <td>0.333393</td>\n",
       "      <td>1</td>\n",
       "    </tr>\n",
       "    <tr>\n",
       "      <th>2</th>\n",
       "      <td>2.516740</td>\n",
       "      <td>-1.031151</td>\n",
       "      <td>1</td>\n",
       "    </tr>\n",
       "    <tr>\n",
       "      <th>3</th>\n",
       "      <td>3.757066</td>\n",
       "      <td>-2.756372</td>\n",
       "      <td>1</td>\n",
       "    </tr>\n",
       "    <tr>\n",
       "      <th>4</th>\n",
       "      <td>1.008908</td>\n",
       "      <td>-0.869831</td>\n",
       "      <td>1</td>\n",
       "    </tr>\n",
       "  </tbody>\n",
       "</table>\n",
       "</div>"
      ],
      "text/plain": [
       "   principal component 1  principal component 2  class\n",
       "0               3.316751              -1.443463      1\n",
       "1               2.209465               0.333393      1\n",
       "2               2.516740              -1.031151      1\n",
       "3               3.757066              -2.756372      1\n",
       "4               1.008908              -0.869831      1"
      ]
     },
     "execution_count": 130,
     "metadata": {
      "tags": []
     },
     "output_type": "execute_result"
    }
   ],
   "source": [
    "xx = StandardScaler().fit_transform(X.values)\n",
    "pca = PCA(n_components = 2)\n",
    "principalComponents = pca.fit_transform(xx)\n",
    "principalDf = pd.DataFrame(data = principalComponents, columns = ['principal component 1', 'principal component 2'])\n",
    "finalDf = pd.concat([principalDf,y], axis = 1)\n",
    "finalDf.head()"
   ]
  },
  {
   "cell_type": "markdown",
   "metadata": {
    "colab_type": "text",
    "id": "gGdDhrYZlUUW"
   },
   "source": [
    "Visualize the dataset in 2-D using the principal components"
   ]
  },
  {
   "cell_type": "code",
   "execution_count": 131,
   "metadata": {
    "colab": {
     "base_uri": "https://localhost:8080/",
     "height": 523
    },
    "colab_type": "code",
    "id": "9vwlVeFfZ46Y",
    "outputId": "6db169f7-ccd9-4110-de15-d716e4b544b8"
   },
   "outputs": [
    {
     "data": {
      "image/png": "[encoded data removed]",
      "text/plain": [
       "<Figure size 576x576 with 1 Axes>"
      ]
     },
     "metadata": {
      "tags": []
     },
     "output_type": "display_data"
    }
   ],
   "source": [
    "fig = plt.figure(figsize = (8,8))\n",
    "ax = fig.add_subplot(1,1,1) \n",
    "ax.set_xlabel('Principal Component 1', fontsize = 15)\n",
    "ax.set_ylabel('Principal Component 2', fontsize = 15)\n",
    "ax.set_title('2 Component PCA', fontsize = 20)\n",
    "\n",
    "\n",
    "labels = [1,2,3]\n",
    "colors = ['r', 'b','g']\n",
    "for label, color in zip(labels,colors):\n",
    "    indicesToKeep = finalDf['class'] == label\n",
    "    ax.scatter(finalDf.loc[indicesToKeep, 'principal component 1']\n",
    "               , finalDf.loc[indicesToKeep, 'principal component 2']\n",
    "               , c = color\n",
    "               , s = 50)\n",
    "ax.legend(labels)\n",
    "ax.grid()"
   ]
  },
  {
   "cell_type": "code",
   "execution_count": 0,
   "metadata": {
    "colab": {},
    "colab_type": "code",
    "id": "ulqeJtNw98Tz"
   },
   "outputs": [],
   "source": [
    "mlp = MLPClassifier(hidden_layer_sizes=(13,13,13),max_iter=500)"
   ]
  },
  {
   "cell_type": "code",
   "execution_count": 133,
   "metadata": {
    "colab": {
     "base_uri": "https://localhost:8080/",
     "height": 141
    },
    "colab_type": "code",
    "id": "qn2olcVU-AMo",
    "outputId": "75b8a38c-83f4-405d-c065-d3033556419a"
   },
   "outputs": [
    {
     "data": {
      "text/plain": [
       "MLPClassifier(activation='relu', alpha=0.0001, batch_size='auto', beta_1=0.9,\n",
       "              beta_2=0.999, early_stopping=False, epsilon=1e-08,\n",
       "              hidden_layer_sizes=(13, 13, 13), learning_rate='constant',\n",
       "              learning_rate_init=0.001, max_iter=500, momentum=0.9,\n",
       "              n_iter_no_change=10, nesterovs_momentum=True, power_t=0.5,\n",
       "              random_state=None, shuffle=True, solver='adam', tol=0.0001,\n",
       "              validation_fraction=0.1, verbose=False, warm_start=False)"
      ]
     },
     "execution_count": 133,
     "metadata": {
      "tags": []
     },
     "output_type": "execute_result"
    }
   ],
   "source": [
    "mlp.fit(X_train,y_train)"
   ]
  },
  {
   "cell_type": "code",
   "execution_count": 0,
   "metadata": {
    "colab": {},
    "colab_type": "code",
    "id": "5wKx5_NU-HMV"
   },
   "outputs": [],
   "source": [
    "predictions = mlp.predict(X_test)"
   ]
  },
  {
   "cell_type": "code",
   "execution_count": 135,
   "metadata": {
    "colab": {
     "base_uri": "https://localhost:8080/",
     "height": 70
    },
    "colab_type": "code",
    "id": "ZNgZKmTT-Kd7",
    "outputId": "65134df3-51b9-4467-9f58-480a51624ae4"
   },
   "outputs": [
    {
     "name": "stdout",
     "output_type": "stream",
     "text": [
      "[[11  0  0]\n",
      " [ 2 14  0]\n",
      " [ 0  0  9]]\n"
     ]
    }
   ],
   "source": [
    "print(confusion_matrix(y_test,predictions))"
   ]
  },
  {
   "cell_type": "code",
   "execution_count": 136,
   "metadata": {
    "colab": {
     "base_uri": "https://localhost:8080/",
     "height": 194
    },
    "colab_type": "code",
    "id": "tB9jtHcZ-M0T",
    "outputId": "a5868664-b164-4c63-83df-c0a3a1bbff84"
   },
   "outputs": [
    {
     "name": "stdout",
     "output_type": "stream",
     "text": [
      "              precision    recall  f1-score   support\n",
      "\n",
      "           1       0.85      1.00      0.92        11\n",
      "           2       1.00      0.88      0.93        16\n",
      "           3       1.00      1.00      1.00         9\n",
      "\n",
      "    accuracy                           0.94        36\n",
      "   macro avg       0.95      0.96      0.95        36\n",
      "weighted avg       0.95      0.94      0.94        36\n",
      "\n"
     ]
    }
   ],
   "source": [
    "print(classification_report(y_test,predictions))"
   ]
  },
  {
   "cell_type": "markdown",
   "metadata": {
    "colab_type": "text",
    "id": "7ETtkzv9lqAU"
   },
   "source": [
    "# **Conclusion**\n",
    "As we can see from the simulation, the MLP classifier gives more than 90% accurate prediction except for a few misses and an almost perfect prediction for the wine data set. The accuracy is a lot more than that of KNN prediction which in the previous homework gave us accuracy less that 90%. The accuracy for the letter recognition dataset is 82% which is very good prediction considering the size of the dataset. By playing around the activation function for MLP, we also get different accuracy, which for our dataset the default activation funciton 'relu' (rectified linear unit function), $f(x) = max(0, x)$, was found to be the one which gives best accuracy."
   ]
  },
  {
   "cell_type": "markdown",
   "metadata": {
    "colab_type": "text",
    "id": "LiwueAuWoJVn"
   },
   "source": [
    "#**References**\n",
    "* https://scikit-learn.org/stable/modules/generated/sklearn.neural_network.MLPClassifier.html\n",
    "* https://analyticsindiamag.com/a-beginners-guide-to-scikit-learns-mlpclassifier/\n",
    "* https://towardsdatascience.com/pca-using-python-scikit-learn-e653f8989e60"
   ]
  }
 ],
 "metadata": {
  "colab": {
   "collapsed_sections": [],
   "name": "Copy of MLP.ipynb",
   "provenance": []
  },
  "kernelspec": {
   "display_name": "Python 3",
   "language": "python",
   "name": "python3"
  }
 },
 "nbformat": 4,
 "nbformat_minor": 1
}
