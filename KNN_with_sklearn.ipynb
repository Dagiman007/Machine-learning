{
 "cells": [
  {
   "cell_type": "markdown",
   "metadata": {
    "colab_type": "text",
    "id": "7fQG6iVB_X8-"
   },
   "source": [
    "Import the libraries pandas and numpy for data processing, matplotlib for visualization\n",
    ",Import knn functions from sklearn for machine learning models"
   ]
  },
  {
   "cell_type": "code",
   "execution_count": 0,
   "metadata": {
    "colab": {},
    "colab_type": "code",
    "id": "K7GiKi-G-TJx"
   },
   "outputs": [],
   "source": [
    "import pandas as pd\n",
    "import numpy as np\n",
    "from sklearn.neighbors import KNeighborsClassifier, DistanceMetric\n",
    "from sklearn.model_selection import train_test_split\n",
    "from sklearn.metrics import accuracy_score, confusion_matrix, classification_report\n",
    "\n",
    "import matplotlib.pyplot as plt\n",
    "%matplotlib inline"
   ]
  },
  {
   "cell_type": "markdown",
   "metadata": {
    "colab_type": "text",
    "id": "1F3S0G5i_zqV"
   },
   "source": [
    "KNN algorithm (and weighted KNN) for breast-cancer-wisconsin dataset"
   ]
  },
  {
   "cell_type": "code",
   "execution_count": 0,
   "metadata": {
    "colab": {},
    "colab_type": "code",
    "id": "KGG2Q3UK_LCZ"
   },
   "outputs": [],
   "source": [
    "names = ['sample-code','thickness','cell-size','cell-shape','marginal-adhesion',\n",
    "        'epithelial-cell-size','bare-nuclei','bland-chromatin','normal-nucleoli','mitoses','class']\n",
    "\n",
    "\n",
    "df = pd.read_csv('Data/Breast cancer/breast-cancer-wisconsin.data',names = names)\n",
    "df = df.replace(\"?\",4)\n",
    "df[\"bare-nuclei\"]=pd.to_numeric(df['bare-nuclei'])\n",
    "df.fillna(df.mode(),inplace =True)\n",
    "\n",
    "X = df.iloc[:,:-1].values\n",
    "y = df.iloc[:,4].values\n",
    "X_train,X_test,y_train,y_test = train_test_split(X,y,test_size = 0.20,random_state = 1)\n",
    "\n",
    "\n",
    "# minkowski with p=2 -> euclidean distance and with p = 1 -> Manhattan distance\n",
    "# proximity weighting specified by the inverse of the distance\n",
    "classifier = KNeighborsClassifier(n_neighbors = 5,metric='minkowski',p = 2, weights='distance')\n",
    "classifier.fit(X_train,y_train)\n",
    "y_pred = classifier.predict(X_test)\n"
   ]
  },
  {
   "cell_type": "markdown",
   "metadata": {
    "colab_type": "text",
    "id": "brZ6sEAqAANT"
   },
   "source": [
    "Calculate the accuracy of the prediction "
   ]
  },
  {
   "cell_type": "code",
   "execution_count": 85,
   "metadata": {
    "colab": {
     "base_uri": "https://localhost:8080/",
     "height": 34
    },
    "colab_type": "code",
    "id": "s_FU9hM7KFFh",
    "outputId": "9ace0737-4f7c-4589-a8a3-0d353bfd3947"
   },
   "outputs": [
    {
     "name": "stdout",
     "output_type": "stream",
     "text": [
      "0.4142857142857143\n"
     ]
    }
   ],
   "source": [
    "print(accuracy_score(y_test,y_pred))"
   ]
  },
  {
   "cell_type": "code",
   "execution_count": 86,
   "metadata": {
    "colab": {
     "base_uri": "https://localhost:8080/",
     "height": 496
    },
    "colab_type": "code",
    "id": "ckUkl3eHFlsN",
    "outputId": "72629514-461c-4858-8a30-1574ec4d0a23"
   },
   "outputs": [
    {
     "name": "stdout",
     "output_type": "stream",
     "text": [
      "[[55  8  5  4  0  3  0  3  7]\n",
      " [10  0  1  1  1  0  0  0  1]\n",
      " [ 5  1  1  1  0  0  0  0  0]\n",
      " [ 4  1  0  1  0  0  0  0  0]\n",
      " [ 2  0  0  0  0  0  0  0  1]\n",
      " [ 3  0  0  0  0  0  0  0  2]\n",
      " [ 0  0  0  0  0  0  0  0  1]\n",
      " [ 4  0  0  0  0  0  0  0  1]\n",
      " [ 8  1  1  1  0  1  0  0  1]]\n",
      "              precision    recall  f1-score   support\n",
      "\n",
      "           1       0.60      0.65      0.62        85\n",
      "           2       0.00      0.00      0.00        14\n",
      "           3       0.12      0.12      0.12         8\n",
      "           4       0.12      0.17      0.14         6\n",
      "           5       0.00      0.00      0.00         3\n",
      "           6       0.00      0.00      0.00         5\n",
      "           7       0.00      0.00      0.00         1\n",
      "           8       0.00      0.00      0.00         5\n",
      "          10       0.07      0.08      0.07        13\n",
      "\n",
      "    accuracy                           0.41       140\n",
      "   macro avg       0.10      0.11      0.11       140\n",
      "weighted avg       0.39      0.41      0.40       140\n",
      "\n"
     ]
    },
    {
     "name": "stderr",
     "output_type": "stream",
     "text": [
      "/usr/local/lib/python3.6/dist-packages/sklearn/metrics/classification.py:1437: UndefinedMetricWarning: Precision and F-score are ill-defined and being set to 0.0 in labels with no predicted samples.\n",
      "  'precision', 'predicted', average, warn_for)\n"
     ]
    }
   ],
   "source": [
    "print(confusion_matrix(y_test,y_pred))\n",
    "print(classification_report(y_test,y_pred))"
   ]
  },
  {
   "cell_type": "markdown",
   "metadata": {
    "colab_type": "text",
    "id": "U44KWD0xAIaQ"
   },
   "source": [
    "Simulate KNN for different values of K"
   ]
  },
  {
   "cell_type": "code",
   "execution_count": 0,
   "metadata": {
    "colab": {},
    "colab_type": "code",
    "id": "eLN2AgauFn7d"
   },
   "outputs": [],
   "source": [
    "error = []\n",
    "accuracy = {}\n",
    "for i in range(1,40):\n",
    "    knn = KNeighborsClassifier(n_neighbors = i,metric= 'minkowski',p=2, weights='distance')\n",
    "    knn.fit(X_train,y_train)\n",
    "    accuracy[i] = accuracy_score(y_test,pred_i, normalize=False)\n",
    "    pred_i = knn.predict(X_test)\n",
    "    error.append(np.mean(pred_i != y_test))"
   ]
  },
  {
   "cell_type": "code",
   "execution_count": 102,
   "metadata": {
    "colab": {
     "base_uri": "https://localhost:8080/",
     "height": 34
    },
    "colab_type": "code",
    "id": "tEaliEcpK0pP",
    "outputId": "6b8a3da1-d49e-43da-f2ce-cfdc590a8f56"
   },
   "outputs": [
    {
     "name": "stdout",
     "output_type": "stream",
     "text": [
      "85\n"
     ]
    }
   ],
   "source": [
    "print(max(accuracy.values()))"
   ]
  },
  {
   "cell_type": "markdown",
   "metadata": {
    "colab_type": "text",
    "id": "rGCtEhoTAQ8A"
   },
   "source": [
    "Plot the error against the K value"
   ]
  },
  {
   "cell_type": "code",
   "execution_count": 98,
   "metadata": {
    "colab": {
     "base_uri": "https://localhost:8080/",
     "height": 408
    },
    "colab_type": "code",
    "id": "o5TYEy_bFoes",
    "outputId": "adbc0945-7c69-4f75-e222-432ba829e5c7"
   },
   "outputs": [
    {
     "data": {
      "image/png": "[encoded data removed]",
      "text/plain": [
       "<Figure size 864x432 with 1 Axes>"
      ]
     },
     "metadata": {
      "tags": []
     },
     "output_type": "display_data"
    }
   ],
   "source": [
    "plt.figure(figsize=(12,6))\n",
    "plt.plot(range(1,40),error,color='red',linestyle='dashed',marker='o',\n",
    "         markerfacecolor='blue',markersize =10)\n",
    "plt.title('Error rate Vs. K value')\n",
    "plt.xlabel('k value')\n",
    "plt.ylabel('Mean Error')\n",
    "plt.show()"
   ]
  },
  {
   "cell_type": "markdown",
   "metadata": {
    "colab_type": "text",
    "id": "IK87zDJFcydw"
   },
   "source": [
    "K-Nearest algorithm for the letter recognition dataset"
   ]
  },
  {
   "cell_type": "code",
   "execution_count": 0,
   "metadata": {
    "colab": {},
    "colab_type": "code",
    "id": "SJfbL_TIEIsG"
   },
   "outputs": [],
   "source": [
    "df_ltr = pd.read_csv('Data/Letter recognition/letter-recognition.data')\n",
    "X_ltr = df_ltr.iloc[:,1:17].values\n",
    "y_ltr = df_ltr.iloc[:,0].values\n",
    "X_train_ltr,X_test_ltr,y_train_ltr,y_test_ltr = train_test_split(X_ltr,y_ltr,test_size = 0.20, random_state = 1)\n",
    "\n",
    "\n",
    "classifier_ltr =  KNeighborsClassifier(n_neighbors = 5,metric='minkowski',p = 2, weights='distance')\n",
    "\n",
    "classifier_ltr.fit(X_train_ltr,y_train_ltr)\n",
    "y_pred_ltr = classifier_ltr.predict(X_test_ltr)\n",
    "\n",
    "\n"
   ]
  },
  {
   "cell_type": "code",
   "execution_count": 0,
   "metadata": {
    "colab": {},
    "colab_type": "code",
    "id": "QMM6P1DhEksZ"
   },
   "outputs": [],
   "source": [
    "error_ltr = []\n",
    "for i in range(1,40):\n",
    "    knn_ltr = KNeighborsClassifier(n_neighbors = i,metric='minkowski',p = 2, weights='distance')\n",
    "    knn_ltr.fit(X_train_ltr,y_train_ltr)\n",
    "    pred_i_ltr = knn_ltr.predict(X_test_ltr)\n",
    "    error_ltr.append(np.mean(pred_i_ltr != y_test_ltr))\n",
    "\n"
   ]
  },
  {
   "cell_type": "code",
   "execution_count": 96,
   "metadata": {
    "colab": {
     "base_uri": "https://localhost:8080/",
     "height": 408
    },
    "colab_type": "code",
    "id": "KZm0fUtzG1Be",
    "outputId": "9f2f0581-5ef8-44a5-e9c8-d0b51c11eaff"
   },
   "outputs": [
    {
     "data": {
      "image/png": "[encoded data removed]",
      "text/plain": [
       "<Figure size 864x432 with 1 Axes>"
      ]
     },
     "metadata": {
      "tags": []
     },
     "output_type": "display_data"
    }
   ],
   "source": [
    "plt.figure(figsize=(12,6))\n",
    "plt.plot(range(1,40),error_ltr,color='red',linestyle='dashed',marker='o',\n",
    "         markerfacecolor='blue',markersize =10)\n",
    "plt.title('Error rate Vs. K value')\n",
    "plt.xlabel('k value')\n",
    "plt.ylabel('Mean Error')\n",
    "plt.show()"
   ]
  }
 ],
 "metadata": {
  "colab": {
   "collapsed_sections": [],
   "name": "Weighted_KNN_with_sklearn.ipynb",
   "provenance": []
  },
  "kernelspec": {
   "display_name": "Python 3",
   "language": "python",
   "name": "python3"
  }
 },
 "nbformat": 4,
 "nbformat_minor": 1
}
